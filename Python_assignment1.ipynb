{
  "nbformat": 4,
  "nbformat_minor": 0,
  "metadata": {
    "colab": {
      "provenance": []
    },
    "kernelspec": {
      "name": "python3",
      "display_name": "Python 3"
    },
    "language_info": {
      "name": "python"
    }
  },
  "cells": [
    {
      "cell_type": "markdown",
      "source": [
        "#Python assignment\n",
        "\n"
      ],
      "metadata": {
        "id": "mnGD67ipCFbn"
      }
    },
    {
      "cell_type": "markdown",
      "source": [
        "Q.1 What is Python, and why is it popular ?\n",
        "  - Python ia a programming language and it is easy to use .\n",
        "  - Python is useful in various domain such as data analytics, data science , AI, machine learning, building websites , software and many more.\n",
        "  - Python is most popular because It is easier for human to write and understand the code & because of its syntax and intendation block.\n",
        "\n",
        "Q.2 What is an interpreter in Python\n",
        "  - An interpreter is program that execute the code line by line without without compiling entire code into machine code beforehand\n",
        "\n",
        "Q.3 What are pre-defined keywords in Python\n",
        "  - if, else, while, for, return, switch, break, continue, def , import, class, is , in , or , not ..\n",
        "\n",
        "Q.4 Can keywords be used as variable names\n",
        "  - NO\n",
        "\n",
        "Q.5 What is mutability in Python\n",
        "  - Mutability means it can be changed\n",
        "  - The content can be changed after it created\n",
        "\n",
        "Q.6 8 Why are lists mutable, but tuples are immutable\n",
        "  - Lists are mutable bcoz once it created we can change it . we can add , remove or can replace any elememnt\n",
        "  - Tuples are immutable becuase we cant change it once created.\n",
        "\n",
        "Q.7 What is the difference between “==” and “is” operators in Python\n",
        "  - \"==\" is an equality operater , used to compare the values between two variables\n",
        "  - \"is\" is an identity operator , used to determine if two varaible refers to same object\n",
        "\n",
        "Q.8 What are logical operators in Python\n",
        "  - used to combine conditional statement\n",
        "  - and ,or, not.\n",
        "\n",
        "Q.9 What is type casting in Python\n",
        "  -  process of converting a value from one data type to another using built-in functions\n",
        "\n",
        "Q.10 What is the difference between implicit and explicit type casting\n",
        "  -  Implicit casting is done automatically by the compiler when different data types are mixed in an expression.\n",
        "  - Explicit casting is performed manually by the programmer by explicitly specifying the desired data type\n",
        "\n",
        "Q.11 What is the purpose of conditional statements in Python\n",
        "  - allowing to control flow of your program based on conditions that we specify\n",
        "\n",
        "Q.12  How does the elif statement work\n",
        "  - elif stands for else  if that used for multiple condition\n",
        "\n",
        "Q.13 What is the difference between for and while loops\n",
        "  - The for statement enumerates the elements of a collection and executes its body for each element of the collection.\n",
        "  The while statement conditionally executes its body one or more times untill the specifies  condition gets satifiesd\n",
        "\n",
        "Q.14  Describe a scenario where a while loop is more suitable than a for loop\n",
        "  - while loop is best used when you don't know the number of iterations in advance\n",
        "\n",
        "  \n"
      ],
      "metadata": {
        "id": "IykeF3pECSz6"
      }
    },
    {
      "cell_type": "code",
      "execution_count": null,
      "metadata": {
        "id": "aY65wb8oCCMO",
        "colab": {
          "base_uri": "https://localhost:8080/"
        },
        "outputId": "fc8c43ea-f1cd-4409-c2e6-dc699d045bbc"
      },
      "outputs": [
        {
          "output_type": "stream",
          "name": "stdout",
          "text": [
            "Hello, World!\n"
          ]
        }
      ],
      "source": [
        "#Write a Python program to print \"Hello, World!\n",
        "\n",
        "print(\"Hello, World!\")"
      ]
    },
    {
      "cell_type": "code",
      "source": [
        "#Write a Python program that displays your name and age\n",
        "name = \"Sejal Gawas\"\n",
        "age= 22\n",
        "\n",
        "print(name)\n",
        "print(age)"
      ],
      "metadata": {
        "colab": {
          "base_uri": "https://localhost:8080/"
        },
        "id": "tx_v8o2g5CJ-",
        "outputId": "b8de942c-9b47-454a-c14f-88bd7128eb28"
      },
      "execution_count": null,
      "outputs": [
        {
          "output_type": "stream",
          "name": "stdout",
          "text": [
            "Sejal Gawas\n",
            "22\n"
          ]
        }
      ]
    },
    {
      "cell_type": "code",
      "source": [
        "\n",
        "#Write code to print all the pre-defined keywords in Python using the keyword library\n",
        "import keyword\n",
        "print(keyword.kwlist)"
      ],
      "metadata": {
        "colab": {
          "base_uri": "https://localhost:8080/"
        },
        "id": "TY3e7gdJ5euf",
        "outputId": "38323c36-8cbd-447a-e3ef-d8934370e0d5"
      },
      "execution_count": null,
      "outputs": [
        {
          "output_type": "stream",
          "name": "stdout",
          "text": [
            "['False', 'None', 'True', 'and', 'as', 'assert', 'async', 'await', 'break', 'class', 'continue', 'def', 'del', 'elif', 'else', 'except', 'finally', 'for', 'from', 'global', 'if', 'import', 'in', 'is', 'lambda', 'nonlocal', 'not', 'or', 'pass', 'raise', 'return', 'try', 'while', 'with', 'yield']\n"
          ]
        }
      ]
    },
    {
      "cell_type": "code",
      "source": [
        "#Write a program that checks if a given word is a Python keyword\n",
        "a= \"if\"\n",
        "print(keyword.iskeyword(a))"
      ],
      "metadata": {
        "colab": {
          "base_uri": "https://localhost:8080/"
        },
        "id": "pqtAG2vY6LWQ",
        "outputId": "8a2365ad-3e90-40c2-d0ae-64fc02bfdff9"
      },
      "execution_count": null,
      "outputs": [
        {
          "output_type": "stream",
          "name": "stdout",
          "text": [
            "True\n"
          ]
        }
      ]
    },
    {
      "cell_type": "code",
      "source": [
        "''' Create a list and tuple in Python, and demonstrate how attempting to change an element works differently\n",
        "for each.'''\n",
        "\n",
        "list = [10,20,30,40]\n",
        "\n",
        "list[1]=50\n",
        "print(list)\n",
        "\n",
        "\n",
        "tup = (12,24,36)\n",
        "tup[1]=38\n",
        "print(tup)"
      ],
      "metadata": {
        "id": "1ciBz6jd7QI7",
        "colab": {
          "base_uri": "https://localhost:8080/",
          "height": 220
        },
        "outputId": "bfb70cff-9d1a-42e2-de86-3d87ccb3382d"
      },
      "execution_count": null,
      "outputs": [
        {
          "output_type": "stream",
          "name": "stdout",
          "text": [
            "[10, 50, 30, 40]\n"
          ]
        },
        {
          "output_type": "error",
          "ename": "TypeError",
          "evalue": "'tuple' object does not support item assignment",
          "traceback": [
            "\u001b[0;31m---------------------------------------------------------------------------\u001b[0m",
            "\u001b[0;31mTypeError\u001b[0m                                 Traceback (most recent call last)",
            "\u001b[0;32m/tmp/ipython-input-3-2800917913.py\u001b[0m in \u001b[0;36m<cell line: 0>\u001b[0;34m()\u001b[0m\n\u001b[1;32m      9\u001b[0m \u001b[0;34m\u001b[0m\u001b[0m\n\u001b[1;32m     10\u001b[0m \u001b[0mtup\u001b[0m \u001b[0;34m=\u001b[0m \u001b[0;34m(\u001b[0m\u001b[0;36m12\u001b[0m\u001b[0;34m,\u001b[0m\u001b[0;36m24\u001b[0m\u001b[0;34m,\u001b[0m\u001b[0;36m36\u001b[0m\u001b[0;34m)\u001b[0m\u001b[0;34m\u001b[0m\u001b[0;34m\u001b[0m\u001b[0m\n\u001b[0;32m---> 11\u001b[0;31m \u001b[0mtup\u001b[0m\u001b[0;34m[\u001b[0m\u001b[0;36m1\u001b[0m\u001b[0;34m]\u001b[0m\u001b[0;34m=\u001b[0m\u001b[0;36m38\u001b[0m\u001b[0;34m\u001b[0m\u001b[0;34m\u001b[0m\u001b[0m\n\u001b[0m\u001b[1;32m     12\u001b[0m \u001b[0mprint\u001b[0m\u001b[0;34m(\u001b[0m\u001b[0mtup\u001b[0m\u001b[0;34m)\u001b[0m\u001b[0;34m\u001b[0m\u001b[0;34m\u001b[0m\u001b[0m\n",
            "\u001b[0;31mTypeError\u001b[0m: 'tuple' object does not support item assignment"
          ]
        }
      ]
    },
    {
      "cell_type": "code",
      "source": [
        "# Write a function to demonstrate the behavior of mutable and immutable arguments.\n",
        "\n",
        "def modify_arguments(number, list):\n",
        "    number += 10\n",
        "    list.append(100)\n",
        "\n",
        "    print(\"number =\", number)\n",
        "    print(\"list =\", list)\n",
        "\n",
        "\n",
        "num = 5\n",
        "\n",
        "my_list = [1, 2, 3]\n",
        "\n",
        "\n",
        "modify_arguments(num, my_list)\n",
        "\n",
        "\n",
        "print(\"num =\", num)\n",
        "print(\"my_list =\", my_list)\n"
      ],
      "metadata": {
        "colab": {
          "base_uri": "https://localhost:8080/"
        },
        "id": "4Q9JrkWt6s4k",
        "outputId": "643fdb03-ddf2-47e6-9658-d21e74e9fbc2"
      },
      "execution_count": null,
      "outputs": [
        {
          "output_type": "stream",
          "name": "stdout",
          "text": [
            "number = 15\n",
            "list = [1, 2, 3, 100]\n",
            "num = 5\n",
            "my_list = [1, 2, 3, 100]\n"
          ]
        }
      ]
    },
    {
      "cell_type": "code",
      "source": [
        "#  Write a program that performs basic arithmetic operations on two user-input numbers.\n",
        "\n",
        "num1 = int(input(\"enter the number: \"))\n",
        "num2 = int(input(\"enter second number: \"))\n",
        "\n",
        "a= num1+num2\n",
        "b= num1-num2\n",
        "\n",
        "print(a)\n",
        "print(b)\n"
      ],
      "metadata": {
        "colab": {
          "base_uri": "https://localhost:8080/"
        },
        "id": "GmYBEhma70uR",
        "outputId": "7c687cbf-e4f6-4a2e-b938-223c74d934e8"
      },
      "execution_count": null,
      "outputs": [
        {
          "output_type": "stream",
          "name": "stdout",
          "text": [
            "enter the number: 3\n",
            "enter second number: 4\n",
            "7\n",
            "-1\n"
          ]
        }
      ]
    },
    {
      "cell_type": "code",
      "source": [
        "#Write a program to demonstrate the use of logical operators.\n",
        "a =2\n",
        "b= 4\n",
        "c=6\n",
        "\n",
        "if (a<b) and (a<c):\n",
        "  print(\"a is smaller\")\n",
        "\n",
        "if (c<b) or (c>b) :\n",
        "  print(\"c is either greater or smaller\")\n",
        "\n",
        "if not (a < 0 or b < 0):\n",
        "    print(\"No number is negative.\")\n",
        "else:\n",
        "    print(\"At least one number is negative.\")"
      ],
      "metadata": {
        "colab": {
          "base_uri": "https://localhost:8080/"
        },
        "id": "INez6gTq9X7P",
        "outputId": "ca8a07dc-68a9-42d2-c264-f203a5f2ac95"
      },
      "execution_count": 5,
      "outputs": [
        {
          "output_type": "stream",
          "name": "stdout",
          "text": [
            "a is smaller\n",
            "c is either greater or smaller\n",
            "No number is negative.\n"
          ]
        }
      ]
    },
    {
      "cell_type": "code",
      "source": [
        "str=input(\"entr any sentence\")\n",
        "print(str)\n",
        "\n",
        "print(int(str))\n",
        "type(str)\n",
        "print(float(str))\n",
        "print(bool(str))"
      ],
      "metadata": {
        "colab": {
          "base_uri": "https://localhost:8080/",
          "height": 256
        },
        "id": "1G5u_1cYFT1e",
        "outputId": "698e0d49-6588-4278-cfb8-ed5a85301fd0"
      },
      "execution_count": null,
      "outputs": [
        {
          "output_type": "stream",
          "name": "stdout",
          "text": [
            "entr any sentencess\n",
            "ss\n"
          ]
        },
        {
          "output_type": "error",
          "ename": "ValueError",
          "evalue": "invalid literal for int() with base 10: 'ss'",
          "traceback": [
            "\u001b[0;31m---------------------------------------------------------------------------\u001b[0m",
            "\u001b[0;31mValueError\u001b[0m                                Traceback (most recent call last)",
            "\u001b[0;32m/tmp/ipython-input-25-3349879379.py\u001b[0m in \u001b[0;36m<cell line: 0>\u001b[0;34m()\u001b[0m\n\u001b[1;32m      2\u001b[0m \u001b[0mprint\u001b[0m\u001b[0;34m(\u001b[0m\u001b[0mstr\u001b[0m\u001b[0;34m)\u001b[0m\u001b[0;34m\u001b[0m\u001b[0;34m\u001b[0m\u001b[0m\n\u001b[1;32m      3\u001b[0m \u001b[0;34m\u001b[0m\u001b[0m\n\u001b[0;32m----> 4\u001b[0;31m \u001b[0mprint\u001b[0m\u001b[0;34m(\u001b[0m\u001b[0mint\u001b[0m\u001b[0;34m(\u001b[0m\u001b[0mstr\u001b[0m\u001b[0;34m)\u001b[0m\u001b[0;34m)\u001b[0m\u001b[0;34m\u001b[0m\u001b[0;34m\u001b[0m\u001b[0m\n\u001b[0m\u001b[1;32m      5\u001b[0m \u001b[0mtype\u001b[0m\u001b[0;34m(\u001b[0m\u001b[0mstr\u001b[0m\u001b[0;34m)\u001b[0m\u001b[0;34m\u001b[0m\u001b[0;34m\u001b[0m\u001b[0m\n\u001b[1;32m      6\u001b[0m \u001b[0mprint\u001b[0m\u001b[0;34m(\u001b[0m\u001b[0mfloat\u001b[0m\u001b[0;34m(\u001b[0m\u001b[0mstr\u001b[0m\u001b[0;34m)\u001b[0m\u001b[0;34m)\u001b[0m\u001b[0;34m\u001b[0m\u001b[0;34m\u001b[0m\u001b[0m\n",
            "\u001b[0;31mValueError\u001b[0m: invalid literal for int() with base 10: 'ss'"
          ]
        }
      ]
    },
    {
      "cell_type": "code",
      "source": [
        "# 10. Write code to demonstrate type casting with list elements.\n",
        "str_list = [\"10\", \"20\", \"30\", \"40\"]\n",
        "\n",
        "int_list = [int(x) for x in str_list]\n",
        "\n",
        "print(\"Original list (strings):\", str_list)\n",
        "print(\"List after casting to integers:\", int_list)\n",
        "\n"
      ],
      "metadata": {
        "id": "LMUeoY-rHGtD",
        "colab": {
          "base_uri": "https://localhost:8080/"
        },
        "outputId": "649fdd66-87c5-4b10-8226-cb2e8748b70a"
      },
      "execution_count": 4,
      "outputs": [
        {
          "output_type": "stream",
          "name": "stdout",
          "text": [
            "Original list (strings): ['10', '20', '30', '40']\n",
            "List after casting to integers: [10, 20, 30, 40]\n"
          ]
        }
      ]
    },
    {
      "cell_type": "code",
      "source": [
        "# Write a program that checks if a number is positive, negative, or zero.\n",
        "\n",
        "num = 4\n",
        "if num<0:\n",
        "  print(\"number is negative\")\n",
        "\n",
        "elif num>0:\n",
        "  print(\"number is positive\")\n",
        "\n",
        "else:\n",
        "  print(\"number is zero\")"
      ],
      "metadata": {
        "colab": {
          "base_uri": "https://localhost:8080/"
        },
        "id": "gubm6vSlHcg5",
        "outputId": "f294b0a6-6252-4b50-e76d-53bf99756c3c"
      },
      "execution_count": null,
      "outputs": [
        {
          "output_type": "stream",
          "name": "stdout",
          "text": [
            "number is zero\n"
          ]
        }
      ]
    },
    {
      "cell_type": "code",
      "source": [
        "# 12. Write a for loop to print numbers from 1 to 10.\n",
        "\n",
        "for i in range(1,11):\n",
        "  print(i)"
      ],
      "metadata": {
        "colab": {
          "base_uri": "https://localhost:8080/"
        },
        "id": "_fn0M3LYIc7V",
        "outputId": "98307d96-1881-457e-9319-ad75b9e3e002"
      },
      "execution_count": null,
      "outputs": [
        {
          "output_type": "stream",
          "name": "stdout",
          "text": [
            "1\n",
            "2\n",
            "3\n",
            "4\n",
            "5\n",
            "6\n",
            "7\n",
            "8\n",
            "9\n",
            "10\n"
          ]
        }
      ]
    },
    {
      "cell_type": "code",
      "source": [
        "## 13. Write a Python program to find the sum of all even numbers between 1 and 50.\n",
        "sum = 0\n",
        "for i in range(1,51):\n",
        "  if i%2==0:\n",
        "    sum+=i\n",
        "    print(sum)\n"
      ],
      "metadata": {
        "id": "SISYPCT8Iu5F",
        "colab": {
          "base_uri": "https://localhost:8080/"
        },
        "outputId": "04474f76-73a8-4fbd-a5b3-33743ca9358e"
      },
      "execution_count": 1,
      "outputs": [
        {
          "output_type": "stream",
          "name": "stdout",
          "text": [
            "2\n",
            "6\n",
            "12\n",
            "20\n",
            "30\n",
            "42\n",
            "56\n",
            "72\n",
            "90\n",
            "110\n",
            "132\n",
            "156\n",
            "182\n",
            "210\n",
            "240\n",
            "272\n",
            "306\n",
            "342\n",
            "380\n",
            "420\n",
            "462\n",
            "506\n",
            "552\n",
            "600\n",
            "650\n"
          ]
        }
      ]
    },
    {
      "cell_type": "code",
      "source": [
        "# 14. Write a program to reverse a string using a while loop.\n",
        "\n",
        "text = input(\"Enter a string: \")\n",
        "\n",
        "reversed_text = \"\"\n",
        "index = len(text) - 1\n",
        "\n",
        "while index >= 0:\n",
        "    reversed_text += text[index]\n",
        "    index -= 1\n",
        "\n",
        "print(\"Reversed string:\", reversed_text)\n"
      ],
      "metadata": {
        "colab": {
          "base_uri": "https://localhost:8080/"
        },
        "id": "pM0kSO_Qskrk",
        "outputId": "faa9cf3d-7281-4ff0-f007-2507e64eb6aa"
      },
      "execution_count": 2,
      "outputs": [
        {
          "output_type": "stream",
          "name": "stdout",
          "text": [
            "Enter a string: sejal\n",
            "Reversed string: lajes\n"
          ]
        }
      ]
    },
    {
      "cell_type": "code",
      "source": [
        "# 15. Write a Python program to calculate the factorial of a number provided by the user using a while loop.\n",
        "\n",
        "num = int(input(\"Enter a number: \"))\n",
        "\n",
        "factorial = 1\n",
        "i = 1\n",
        "\n",
        "while i <= num:\n",
        "    factorial *= i\n",
        "    i += 1\n",
        "\n",
        "print(f\"Factorial of {num} is: {factorial}\")\n"
      ],
      "metadata": {
        "colab": {
          "base_uri": "https://localhost:8080/"
        },
        "id": "lDIbHolftl91",
        "outputId": "ce41c665-1082-40d7-f313-25519240c13c"
      },
      "execution_count": 3,
      "outputs": [
        {
          "output_type": "stream",
          "name": "stdout",
          "text": [
            "Enter a number: 4\n",
            "Factorial of 4 is: 24\n"
          ]
        }
      ]
    }
  ]
}